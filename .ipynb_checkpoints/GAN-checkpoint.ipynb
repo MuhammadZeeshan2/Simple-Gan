{
 "cells": [
  {
   "cell_type": "code",
   "execution_count": 32,
   "id": "0d42fd90",
   "metadata": {},
   "outputs": [],
   "source": [
    "from numpy import expand_dims\n",
    "from numpy import zeros\n",
    "from numpy import ones\n",
    "from numpy import vstack\n",
    "from numpy.random import randn\n",
    "from numpy.random import randint\n",
    "from keras.datasets.mnist import load_data\n",
    "from tensorflow.keras.optimizers import Adam\n",
    "from keras.models import Sequential\n",
    "from keras.layers import Dense\n",
    "from keras.layers import Reshape\n",
    "from keras.layers import Flatten\n",
    "from keras.layers import Conv2D\n",
    "from keras.layers import Conv2DTranspose\n",
    "from keras.layers import LeakyReLU\n",
    "from keras.layers import Dropout\n",
    "from matplotlib import pyplot\n"
   ]
  },
  {
   "cell_type": "code",
   "execution_count": 27,
   "id": "b1674532",
   "metadata": {},
   "outputs": [
    {
     "name": "stdout",
     "output_type": "stream",
     "text": [
      "Descrimintor\n"
     ]
    }
   ],
   "source": [
    "def define_discriminator(in_shape=(28,28,1)):\n",
    "    model = Sequential()\n",
    "    model.add(Conv2D(64, (3,3), strides=(2,2), padding=\"same\", input_shape=in_shape))\n",
    "    model.add(LeakyReLU(alpha=0.2))\n",
    "    model.add(Dropout(0.4))\n",
    "    model.add(Conv2D(64, (3,3), strides=(2,2), padding=\"same\"))\n",
    "    model.add(LeakyReLU(alpha=0.2))\n",
    "    model.add(Dropout(0.4))\n",
    "    model.add(Flatten())\n",
    "    model.add(Dense(1,activation=\"sigmoid\"))\n",
    "\n",
    "    opt = Adam(lr=0.0002,beta_1=0.5)\n",
    "    model.compile(loss='binary_crossentropy', optimizer=opt, metrics=['accuracy'])\n",
    "    return model\n",
    "\n",
    "\n",
    "\n",
    "print(\"Descrimintor\")"
   ]
  },
  {
   "cell_type": "code",
   "execution_count": 28,
   "id": "8483bdfa",
   "metadata": {},
   "outputs": [
    {
     "name": "stdout",
     "output_type": "stream",
     "text": [
      "Generator\n"
     ]
    }
   ],
   "source": [
    "def define_generator(latent_dim):\n",
    "    model = Sequential()\n",
    "    n_node = 128 *7 *7\n",
    "    model.add(Dense(n_node, input_dim=latent_dim))\n",
    "    model.add(LeakyReLU(alpha=0.2))\n",
    "    model.add(Reshape((7,7,128)))\n",
    "\n",
    "    model.add(Conv2DTranspose(128, (4,4), strides=(2,2), padding=\"same\"))\n",
    "    model.add(LeakyReLU(alpha=0.2))\n",
    "    model.add(Conv2DTranspose(128, (4,4), strides=(2,2), padding=\"same\"))\n",
    "    model.add(LeakyReLU(alpha=0.2))\n",
    "\n",
    "    model.add(Conv2D(1, (7,7), activation=\"sigmoid\", padding=\"same\"))\n",
    "    return model\n",
    "    \n",
    "    \n",
    "print(\"Generator\")"
   ]
  },
  {
   "cell_type": "code",
   "execution_count": 29,
   "id": "48ec6f8b",
   "metadata": {},
   "outputs": [
    {
     "name": "stdout",
     "output_type": "stream",
     "text": [
      "Model\n"
     ]
    }
   ],
   "source": [
    "def define_gan(g_model, d_model):\n",
    "    d_model.trainable = False\n",
    "\n",
    "    model = Sequential()\n",
    "    model.add(g_model)\n",
    "    model.add(d_model)\n",
    "\n",
    "    opt = Adam(lr=0.0002, beta_1=0.5)\n",
    "    model.compile(loss='binary_crossentropy', optimizer=opt)\n",
    "    return model\n",
    "\n",
    "print(\"Model\")"
   ]
  },
  {
   "cell_type": "code",
   "execution_count": 30,
   "id": "a1cac8fc",
   "metadata": {},
   "outputs": [
    {
     "name": "stdout",
     "output_type": "stream",
     "text": [
      "Before training\n"
     ]
    }
   ],
   "source": [
    "# load and prepare mnist training images\n",
    "def load_real_samples():\n",
    "    (trainX,_),(_,_) = load_data()\n",
    "    X = expand_dims(trainX, axis = -1)\n",
    "    X=X.astype('float32')\n",
    "    X=X/255.0\n",
    "    return X\n",
    "\n",
    "# select real samples\n",
    "def generate_real_samples(dataset, n_samples):\n",
    "    ix = randint(0, dataset.shape[0], n_samples)\n",
    "    X = dataset[ix]\n",
    "    y = ones((n_samples,1))\n",
    "    return X,y\n",
    "\n",
    "# generate points in latent space as input for the generator\n",
    "def generate_latent_points(latent_dim,n_samples):\n",
    "    x_input = randn(latent_dim * n_samples)\n",
    "    x_input = x_input.reshape(n_samples, latent_dim)\n",
    "    return x_input\n",
    "\n",
    "# use the generator to generate n fake examples, with class labels\n",
    "def generate_fake_samples(g_model,latent_dim,n_samples):\n",
    "    x_input = generate_latent_points(latent_dim,n_samples)\n",
    "    X = g_model.predict(x_input)\n",
    "    y = zeros((n_samples,1))\n",
    "    return X,y\n",
    "\n",
    "# create and save a plot of generated images (reversed grayscale)\n",
    "def save_plot(examples, epoch, n=10):\n",
    "    for i in range(n * n):\n",
    "        pyplot.subplot(n,n,1+i)\n",
    "        pyplot.axis('off')\n",
    "        pyplot.imshow(examples[i,:,:,0], cmap='gray_r')\n",
    "    \n",
    "    filename = 'generated_plot_ep_%03d.png'%(epoch+1)\n",
    "    pyplot.savegif(filename)\n",
    "    pyplot.close()\n",
    "\n",
    "# evaluate the discriminator, plot generated images, save generator model\n",
    "def summarize_performance(epoch, g_model, d_model, dataset, latent_dim, n_samples=100):\n",
    "    X_real, y_real = generate_real_samples(dataset, n_samples)\n",
    "    _, acc_real = d_model.evaluate(X_real,y_real, verbose=0)\n",
    "    X_fake, y_fake = generate_fake_samples(g_model, latent_dim, n_samples)\n",
    "    _, acc_fake = d_model.evaluate(X_fake, y_fake, verbose=0)\n",
    "\n",
    "    print(\"Accuracy real: %.0f%%, fake: %.0f%%\" % (acc_real*100, acc_fake*100))\n",
    "    save_plot(X_fake, epoch)\n",
    "\n",
    "    filename = 'generator_model_%03d.h5' %(epoch+1)\n",
    "    g_model.save(filename)\n",
    "    \n",
    "\n",
    "    \n",
    "print(\"Before training\")"
   ]
  },
  {
   "cell_type": "code",
   "execution_count": 31,
   "id": "58facfdf",
   "metadata": {},
   "outputs": [
    {
     "name": "stdout",
     "output_type": "stream",
     "text": [
      "After training\n"
     ]
    }
   ],
   "source": [
    "# train the generator and discriminator\n",
    "def train(g_model, d_model, gan_model, dataset, latent_dim, n_epochs=100, n_batch=256):\n",
    "    bat_per_epoch = int(dataset.shape[0]/n_batch)\n",
    "    half_batch = int(n_batch/2)\n",
    "\n",
    "    for i in range(n_epochs):\n",
    "        for j in range(bat_per_epoch):\n",
    "\n",
    "            X_real, y_real = generate_real_samples(dataset, half_batch)\n",
    "            X_fake, y_fake = generate_fake_samples(g_model, latent_dim, half_batch)\n",
    "            X,y = vstack((X_real, X_fake)), vstack((y_real, y_fake))\n",
    "            d_loss,_ = d_model.train_on_batch(X,y)\n",
    "\n",
    "            X_gan = generate_latent_points(latent_dim, n_batch)\n",
    "            y_gan = ones((n_batch,1))\n",
    "\n",
    "            g_loss = gan_model.train_on_batch(X_gan, y_gan)\n",
    "\n",
    "            print(\">epoch%d, %d/%d, d_loss=%.3f, g_loss=%.3f\" %(i+1,j+1,bat_per_epoch,d_loss,g_loss))\n",
    "        \n",
    "        if(i+1) % 10 ==10:\n",
    "            summarize_performance(i, g_model, d_model, dataset, latent_dim)\n",
    "\n",
    "            \n",
    "            \n",
    "            \n",
    "print(\"After training\")"
   ]
  },
  {
   "cell_type": "code",
   "execution_count": null,
   "id": "a5b3f254",
   "metadata": {},
   "outputs": [],
   "source": []
  }
 ],
 "metadata": {
  "kernelspec": {
   "display_name": "Python 3 (ipykernel)",
   "language": "python",
   "name": "python3"
  },
  "language_info": {
   "codemirror_mode": {
    "name": "ipython",
    "version": 3
   },
   "file_extension": ".py",
   "mimetype": "text/x-python",
   "name": "python",
   "nbconvert_exporter": "python",
   "pygments_lexer": "ipython3",
   "version": "3.11.5"
  }
 },
 "nbformat": 4,
 "nbformat_minor": 5
}
